{
 "cells": [
  {
   "cell_type": "markdown",
   "metadata": {},
   "source": [
    "### Creating and Persisting an ML Model"
   ]
  },
  {
   "cell_type": "code",
   "execution_count": 11,
   "metadata": {},
   "outputs": [],
   "source": [
    "import pandas as pd\n",
    "import numpy as np\n",
    "df = pd.read_csv('data/ProductionData.csv', sep=',')"
   ]
  },
  {
   "cell_type": "markdown",
   "metadata": {},
   "source": [
    "Summary of the data"
   ]
  },
  {
   "cell_type": "code",
   "execution_count": 12,
   "metadata": {},
   "outputs": [
    {
     "data": {
      "text/html": [
       "<div>\n",
       "<style scoped>\n",
       "    .dataframe tbody tr th:only-of-type {\n",
       "        vertical-align: middle;\n",
       "    }\n",
       "\n",
       "    .dataframe tbody tr th {\n",
       "        vertical-align: top;\n",
       "    }\n",
       "\n",
       "    .dataframe thead th {\n",
       "        text-align: right;\n",
       "    }\n",
       "</style>\n",
       "<table border=\"1\" class=\"dataframe\">\n",
       "  <thead>\n",
       "    <tr style=\"text-align: right;\">\n",
       "      <th></th>\n",
       "      <th>age</th>\n",
       "      <th>Medu</th>\n",
       "      <th>Fedu</th>\n",
       "      <th>traveltime</th>\n",
       "      <th>studytime</th>\n",
       "      <th>failures</th>\n",
       "      <th>famrel</th>\n",
       "      <th>freetime</th>\n",
       "      <th>goout</th>\n",
       "      <th>Dalc</th>\n",
       "      <th>Walc</th>\n",
       "      <th>health</th>\n",
       "      <th>absences</th>\n",
       "      <th>G1</th>\n",
       "      <th>G2</th>\n",
       "      <th>G3</th>\n",
       "    </tr>\n",
       "  </thead>\n",
       "  <tbody>\n",
       "    <tr>\n",
       "      <th>count</th>\n",
       "      <td>20000.000000</td>\n",
       "      <td>20000.00000</td>\n",
       "      <td>20000.000000</td>\n",
       "      <td>20000.000000</td>\n",
       "      <td>20000.000000</td>\n",
       "      <td>20000.000000</td>\n",
       "      <td>20000.00000</td>\n",
       "      <td>20000.000000</td>\n",
       "      <td>20000.000000</td>\n",
       "      <td>20000.000000</td>\n",
       "      <td>20000.000000</td>\n",
       "      <td>20000.000000</td>\n",
       "      <td>20000.00000</td>\n",
       "      <td>20000.000000</td>\n",
       "      <td>20000.000000</td>\n",
       "      <td>20000.00000</td>\n",
       "    </tr>\n",
       "    <tr>\n",
       "      <th>mean</th>\n",
       "      <td>16.692650</td>\n",
       "      <td>2.73175</td>\n",
       "      <td>2.544250</td>\n",
       "      <td>1.460450</td>\n",
       "      <td>2.032650</td>\n",
       "      <td>0.369350</td>\n",
       "      <td>3.92070</td>\n",
       "      <td>3.209450</td>\n",
       "      <td>3.062550</td>\n",
       "      <td>1.485700</td>\n",
       "      <td>2.280150</td>\n",
       "      <td>3.515800</td>\n",
       "      <td>7.40665</td>\n",
       "      <td>10.325300</td>\n",
       "      <td>10.120300</td>\n",
       "      <td>9.82185</td>\n",
       "    </tr>\n",
       "    <tr>\n",
       "      <th>std</th>\n",
       "      <td>1.277015</td>\n",
       "      <td>1.09966</td>\n",
       "      <td>1.090184</td>\n",
       "      <td>0.726266</td>\n",
       "      <td>0.833438</td>\n",
       "      <td>0.786741</td>\n",
       "      <td>0.90319</td>\n",
       "      <td>1.026564</td>\n",
       "      <td>1.123966</td>\n",
       "      <td>0.892544</td>\n",
       "      <td>1.280097</td>\n",
       "      <td>1.391275</td>\n",
       "      <td>9.94318</td>\n",
       "      <td>3.766443</td>\n",
       "      <td>4.188055</td>\n",
       "      <td>4.95591</td>\n",
       "    </tr>\n",
       "    <tr>\n",
       "      <th>min</th>\n",
       "      <td>15.000000</td>\n",
       "      <td>0.00000</td>\n",
       "      <td>0.000000</td>\n",
       "      <td>1.000000</td>\n",
       "      <td>1.000000</td>\n",
       "      <td>0.000000</td>\n",
       "      <td>1.00000</td>\n",
       "      <td>1.000000</td>\n",
       "      <td>1.000000</td>\n",
       "      <td>1.000000</td>\n",
       "      <td>1.000000</td>\n",
       "      <td>1.000000</td>\n",
       "      <td>0.00000</td>\n",
       "      <td>1.000000</td>\n",
       "      <td>-2.000000</td>\n",
       "      <td>-2.00000</td>\n",
       "    </tr>\n",
       "    <tr>\n",
       "      <th>25%</th>\n",
       "      <td>16.000000</td>\n",
       "      <td>2.00000</td>\n",
       "      <td>2.000000</td>\n",
       "      <td>1.000000</td>\n",
       "      <td>1.000000</td>\n",
       "      <td>0.000000</td>\n",
       "      <td>4.00000</td>\n",
       "      <td>3.000000</td>\n",
       "      <td>2.000000</td>\n",
       "      <td>1.000000</td>\n",
       "      <td>1.000000</td>\n",
       "      <td>3.000000</td>\n",
       "      <td>2.00000</td>\n",
       "      <td>8.000000</td>\n",
       "      <td>7.000000</td>\n",
       "      <td>7.00000</td>\n",
       "    </tr>\n",
       "    <tr>\n",
       "      <th>50%</th>\n",
       "      <td>17.000000</td>\n",
       "      <td>3.00000</td>\n",
       "      <td>3.000000</td>\n",
       "      <td>1.000000</td>\n",
       "      <td>2.000000</td>\n",
       "      <td>0.000000</td>\n",
       "      <td>4.00000</td>\n",
       "      <td>3.000000</td>\n",
       "      <td>3.000000</td>\n",
       "      <td>1.000000</td>\n",
       "      <td>2.000000</td>\n",
       "      <td>4.000000</td>\n",
       "      <td>4.00000</td>\n",
       "      <td>10.000000</td>\n",
       "      <td>10.000000</td>\n",
       "      <td>10.00000</td>\n",
       "    </tr>\n",
       "    <tr>\n",
       "      <th>75%</th>\n",
       "      <td>18.000000</td>\n",
       "      <td>4.00000</td>\n",
       "      <td>3.000000</td>\n",
       "      <td>2.000000</td>\n",
       "      <td>2.000000</td>\n",
       "      <td>0.000000</td>\n",
       "      <td>5.00000</td>\n",
       "      <td>4.000000</td>\n",
       "      <td>4.000000</td>\n",
       "      <td>2.000000</td>\n",
       "      <td>3.000000</td>\n",
       "      <td>5.000000</td>\n",
       "      <td>9.00000</td>\n",
       "      <td>13.000000</td>\n",
       "      <td>13.000000</td>\n",
       "      <td>13.00000</td>\n",
       "    </tr>\n",
       "    <tr>\n",
       "      <th>max</th>\n",
       "      <td>22.000000</td>\n",
       "      <td>4.00000</td>\n",
       "      <td>4.000000</td>\n",
       "      <td>4.000000</td>\n",
       "      <td>4.000000</td>\n",
       "      <td>3.000000</td>\n",
       "      <td>5.00000</td>\n",
       "      <td>5.000000</td>\n",
       "      <td>5.000000</td>\n",
       "      <td>5.000000</td>\n",
       "      <td>5.000000</td>\n",
       "      <td>5.000000</td>\n",
       "      <td>75.00000</td>\n",
       "      <td>20.000000</td>\n",
       "      <td>20.000000</td>\n",
       "      <td>21.00000</td>\n",
       "    </tr>\n",
       "  </tbody>\n",
       "</table>\n",
       "</div>"
      ],
      "text/plain": [
       "                age         Medu          Fedu    traveltime     studytime  \\\n",
       "count  20000.000000  20000.00000  20000.000000  20000.000000  20000.000000   \n",
       "mean      16.692650      2.73175      2.544250      1.460450      2.032650   \n",
       "std        1.277015      1.09966      1.090184      0.726266      0.833438   \n",
       "min       15.000000      0.00000      0.000000      1.000000      1.000000   \n",
       "25%       16.000000      2.00000      2.000000      1.000000      1.000000   \n",
       "50%       17.000000      3.00000      3.000000      1.000000      2.000000   \n",
       "75%       18.000000      4.00000      3.000000      2.000000      2.000000   \n",
       "max       22.000000      4.00000      4.000000      4.000000      4.000000   \n",
       "\n",
       "           failures       famrel      freetime         goout          Dalc  \\\n",
       "count  20000.000000  20000.00000  20000.000000  20000.000000  20000.000000   \n",
       "mean       0.369350      3.92070      3.209450      3.062550      1.485700   \n",
       "std        0.786741      0.90319      1.026564      1.123966      0.892544   \n",
       "min        0.000000      1.00000      1.000000      1.000000      1.000000   \n",
       "25%        0.000000      4.00000      3.000000      2.000000      1.000000   \n",
       "50%        0.000000      4.00000      3.000000      3.000000      1.000000   \n",
       "75%        0.000000      5.00000      4.000000      4.000000      2.000000   \n",
       "max        3.000000      5.00000      5.000000      5.000000      5.000000   \n",
       "\n",
       "               Walc        health     absences            G1            G2  \\\n",
       "count  20000.000000  20000.000000  20000.00000  20000.000000  20000.000000   \n",
       "mean       2.280150      3.515800      7.40665     10.325300     10.120300   \n",
       "std        1.280097      1.391275      9.94318      3.766443      4.188055   \n",
       "min        1.000000      1.000000      0.00000      1.000000     -2.000000   \n",
       "25%        1.000000      3.000000      2.00000      8.000000      7.000000   \n",
       "50%        2.000000      4.000000      4.00000     10.000000     10.000000   \n",
       "75%        3.000000      5.000000      9.00000     13.000000     13.000000   \n",
       "max        5.000000      5.000000     75.00000     20.000000     20.000000   \n",
       "\n",
       "                G3  \n",
       "count  20000.00000  \n",
       "mean       9.82185  \n",
       "std        4.95591  \n",
       "min       -2.00000  \n",
       "25%        7.00000  \n",
       "50%       10.00000  \n",
       "75%       13.00000  \n",
       "max       21.00000  "
      ]
     },
     "execution_count": 12,
     "metadata": {},
     "output_type": "execute_result"
    }
   ],
   "source": [
    "df.describe()"
   ]
  },
  {
   "cell_type": "code",
   "execution_count": 13,
   "metadata": {},
   "outputs": [
    {
     "data": {
      "text/plain": [
       "<bound method DataFrame.info of       school sex  age address famsize Pstatus  Medu  Fedu      Mjob      Fjob  \\\n",
       "0         GP   M   16       U     LE3       T     3     2  services     other   \n",
       "1         GP   F   15       R     GT3       T     2     2     other    health   \n",
       "2         GP   M   18       U     GT3       T     4     2   teacher     other   \n",
       "3         GP   M   16       U     GT3       T     1     1   at_home     other   \n",
       "4         GP   M   19       U     GT3       A     3     3  services  services   \n",
       "...      ...  ..  ...     ...     ...     ...   ...   ...       ...       ...   \n",
       "19995     GP   M   17       U     GT3       A     3     2  services     other   \n",
       "19996     GP   F   16       U     LE3       T     3     3     other   teacher   \n",
       "19997     GP   M   18       U     GT3       T     2     2  services    health   \n",
       "19998     GP   F   18       U     GT3       T     2     2   at_home     other   \n",
       "19999     GP   F   16       U     GT3       T     1     3     other     other   \n",
       "\n",
       "       ... famrel freetime  goout  Dalc  Walc health absences  G1  G2  G3  \n",
       "0      ...      3        3      2     4     5      5        7  13  14  14  \n",
       "1      ...      5        4      5     1     1      4        7   8   8   9  \n",
       "2      ...      4        2      2     1     2      1        2  16  15  15  \n",
       "3      ...      5        2      3     1     2      2        1  13  13  13  \n",
       "4      ...      3        3      1     1     4      3        2  12  12  12  \n",
       "...    ...    ...      ...    ...   ...   ...    ...      ...  ..  ..  ..  \n",
       "19995  ...      5        5      3     1     1      5        0  17  18  19  \n",
       "19996  ...      4        2      1     2     4      4        0   9  10  10  \n",
       "19997  ...      4        4      2     1     1      5        1  11   9   9  \n",
       "19998  ...      4        4      3     1     1      3       16  10   9   8  \n",
       "19999  ...      5        3      3     3     3      4       18   7   5   5  \n",
       "\n",
       "[20000 rows x 33 columns]>"
      ]
     },
     "execution_count": 13,
     "metadata": {},
     "output_type": "execute_result"
    }
   ],
   "source": [
    "df.info"
   ]
  },
  {
   "cell_type": "markdown",
   "metadata": {},
   "source": [
    "Create a subset of features as an example."
   ]
  },
  {
   "cell_type": "code",
   "execution_count": 14,
   "metadata": {},
   "outputs": [],
   "source": [
    "include = ['health','Medu','Fedu','studytime','traveltime','absences','age','freetime','famrel','Dalc','Walc','G3']\n",
    "df.drop(columns=df.columns.difference(include), inplace=True)  # only using 3 features"
   ]
  },
  {
   "cell_type": "code",
   "execution_count": 15,
   "metadata": {},
   "outputs": [
    {
     "data": {
      "text/plain": [
       "<bound method DataFrame.info of        age  Medu  Fedu  traveltime  studytime  famrel  freetime  Dalc  Walc  \\\n",
       "0       16     3     2           2          2       3         3     4     5   \n",
       "1       15     2     2           4          1       5         4     1     1   \n",
       "2       18     4     2           1          3       4         2     1     2   \n",
       "3       16     1     1           2          1       5         2     1     2   \n",
       "4       19     3     3           1          2       3         3     1     4   \n",
       "...    ...   ...   ...         ...        ...     ...       ...   ...   ...   \n",
       "19995   17     3     2           1          2       5         5     1     1   \n",
       "19996   16     3     3           1          2       4         2     2     4   \n",
       "19997   18     2     2           1          1       4         4     1     1   \n",
       "19998   18     2     2           1          2       4         4     1     1   \n",
       "19999   16     1     3           1          2       5         3     3     3   \n",
       "\n",
       "       health  absences  G3  \n",
       "0           5         7  14  \n",
       "1           4         7   9  \n",
       "2           1         2  15  \n",
       "3           2         1  13  \n",
       "4           3         2  12  \n",
       "...       ...       ...  ..  \n",
       "19995       5         0  19  \n",
       "19996       4         0  10  \n",
       "19997       5         1   9  \n",
       "19998       3        16   8  \n",
       "19999       4        18   5  \n",
       "\n",
       "[20000 rows x 12 columns]>"
      ]
     },
     "execution_count": 15,
     "metadata": {},
     "output_type": "execute_result"
    }
   ],
   "source": [
    "df.info"
   ]
  },
  {
   "cell_type": "markdown",
   "metadata": {},
   "source": [
    "The goal is to predict the quality of the student. We will build a predictor based on the final grade (G3).\n",
    "Becasue we are trying to find quality students. In this model we define a quality student as one who achieves a final grade of 15 or higher. "
   ]
  },
  {
   "cell_type": "code",
   "execution_count": 16,
   "metadata": {},
   "outputs": [],
   "source": [
    "df['qual_student'] = np.where(df['G3']>=15, 1, 0)"
   ]
  },
  {
   "cell_type": "code",
   "execution_count": 17,
   "metadata": {},
   "outputs": [
    {
     "data": {
      "text/html": [
       "<div>\n",
       "<style scoped>\n",
       "    .dataframe tbody tr th:only-of-type {\n",
       "        vertical-align: middle;\n",
       "    }\n",
       "\n",
       "    .dataframe tbody tr th {\n",
       "        vertical-align: top;\n",
       "    }\n",
       "\n",
       "    .dataframe thead th {\n",
       "        text-align: right;\n",
       "    }\n",
       "</style>\n",
       "<table border=\"1\" class=\"dataframe\">\n",
       "  <thead>\n",
       "    <tr style=\"text-align: right;\">\n",
       "      <th></th>\n",
       "      <th>age</th>\n",
       "      <th>Medu</th>\n",
       "      <th>Fedu</th>\n",
       "      <th>traveltime</th>\n",
       "      <th>studytime</th>\n",
       "      <th>famrel</th>\n",
       "      <th>freetime</th>\n",
       "      <th>Dalc</th>\n",
       "      <th>Walc</th>\n",
       "      <th>health</th>\n",
       "      <th>absences</th>\n",
       "      <th>G3</th>\n",
       "      <th>qual_student</th>\n",
       "    </tr>\n",
       "  </thead>\n",
       "  <tbody>\n",
       "    <tr>\n",
       "      <th>count</th>\n",
       "      <td>20000.000000</td>\n",
       "      <td>20000.00000</td>\n",
       "      <td>20000.000000</td>\n",
       "      <td>20000.000000</td>\n",
       "      <td>20000.000000</td>\n",
       "      <td>20000.00000</td>\n",
       "      <td>20000.000000</td>\n",
       "      <td>20000.000000</td>\n",
       "      <td>20000.000000</td>\n",
       "      <td>20000.000000</td>\n",
       "      <td>20000.00000</td>\n",
       "      <td>20000.00000</td>\n",
       "      <td>20000.000000</td>\n",
       "    </tr>\n",
       "    <tr>\n",
       "      <th>mean</th>\n",
       "      <td>16.692650</td>\n",
       "      <td>2.73175</td>\n",
       "      <td>2.544250</td>\n",
       "      <td>1.460450</td>\n",
       "      <td>2.032650</td>\n",
       "      <td>3.92070</td>\n",
       "      <td>3.209450</td>\n",
       "      <td>1.485700</td>\n",
       "      <td>2.280150</td>\n",
       "      <td>3.515800</td>\n",
       "      <td>7.40665</td>\n",
       "      <td>9.82185</td>\n",
       "      <td>0.160500</td>\n",
       "    </tr>\n",
       "    <tr>\n",
       "      <th>std</th>\n",
       "      <td>1.277015</td>\n",
       "      <td>1.09966</td>\n",
       "      <td>1.090184</td>\n",
       "      <td>0.726266</td>\n",
       "      <td>0.833438</td>\n",
       "      <td>0.90319</td>\n",
       "      <td>1.026564</td>\n",
       "      <td>0.892544</td>\n",
       "      <td>1.280097</td>\n",
       "      <td>1.391275</td>\n",
       "      <td>9.94318</td>\n",
       "      <td>4.95591</td>\n",
       "      <td>0.367078</td>\n",
       "    </tr>\n",
       "    <tr>\n",
       "      <th>min</th>\n",
       "      <td>15.000000</td>\n",
       "      <td>0.00000</td>\n",
       "      <td>0.000000</td>\n",
       "      <td>1.000000</td>\n",
       "      <td>1.000000</td>\n",
       "      <td>1.00000</td>\n",
       "      <td>1.000000</td>\n",
       "      <td>1.000000</td>\n",
       "      <td>1.000000</td>\n",
       "      <td>1.000000</td>\n",
       "      <td>0.00000</td>\n",
       "      <td>-2.00000</td>\n",
       "      <td>0.000000</td>\n",
       "    </tr>\n",
       "    <tr>\n",
       "      <th>25%</th>\n",
       "      <td>16.000000</td>\n",
       "      <td>2.00000</td>\n",
       "      <td>2.000000</td>\n",
       "      <td>1.000000</td>\n",
       "      <td>1.000000</td>\n",
       "      <td>4.00000</td>\n",
       "      <td>3.000000</td>\n",
       "      <td>1.000000</td>\n",
       "      <td>1.000000</td>\n",
       "      <td>3.000000</td>\n",
       "      <td>2.00000</td>\n",
       "      <td>7.00000</td>\n",
       "      <td>0.000000</td>\n",
       "    </tr>\n",
       "    <tr>\n",
       "      <th>50%</th>\n",
       "      <td>17.000000</td>\n",
       "      <td>3.00000</td>\n",
       "      <td>3.000000</td>\n",
       "      <td>1.000000</td>\n",
       "      <td>2.000000</td>\n",
       "      <td>4.00000</td>\n",
       "      <td>3.000000</td>\n",
       "      <td>1.000000</td>\n",
       "      <td>2.000000</td>\n",
       "      <td>4.000000</td>\n",
       "      <td>4.00000</td>\n",
       "      <td>10.00000</td>\n",
       "      <td>0.000000</td>\n",
       "    </tr>\n",
       "    <tr>\n",
       "      <th>75%</th>\n",
       "      <td>18.000000</td>\n",
       "      <td>4.00000</td>\n",
       "      <td>3.000000</td>\n",
       "      <td>2.000000</td>\n",
       "      <td>2.000000</td>\n",
       "      <td>5.00000</td>\n",
       "      <td>4.000000</td>\n",
       "      <td>2.000000</td>\n",
       "      <td>3.000000</td>\n",
       "      <td>5.000000</td>\n",
       "      <td>9.00000</td>\n",
       "      <td>13.00000</td>\n",
       "      <td>0.000000</td>\n",
       "    </tr>\n",
       "    <tr>\n",
       "      <th>max</th>\n",
       "      <td>22.000000</td>\n",
       "      <td>4.00000</td>\n",
       "      <td>4.000000</td>\n",
       "      <td>4.000000</td>\n",
       "      <td>4.000000</td>\n",
       "      <td>5.00000</td>\n",
       "      <td>5.000000</td>\n",
       "      <td>5.000000</td>\n",
       "      <td>5.000000</td>\n",
       "      <td>5.000000</td>\n",
       "      <td>75.00000</td>\n",
       "      <td>21.00000</td>\n",
       "      <td>1.000000</td>\n",
       "    </tr>\n",
       "  </tbody>\n",
       "</table>\n",
       "</div>"
      ],
      "text/plain": [
       "                age         Medu          Fedu    traveltime     studytime  \\\n",
       "count  20000.000000  20000.00000  20000.000000  20000.000000  20000.000000   \n",
       "mean      16.692650      2.73175      2.544250      1.460450      2.032650   \n",
       "std        1.277015      1.09966      1.090184      0.726266      0.833438   \n",
       "min       15.000000      0.00000      0.000000      1.000000      1.000000   \n",
       "25%       16.000000      2.00000      2.000000      1.000000      1.000000   \n",
       "50%       17.000000      3.00000      3.000000      1.000000      2.000000   \n",
       "75%       18.000000      4.00000      3.000000      2.000000      2.000000   \n",
       "max       22.000000      4.00000      4.000000      4.000000      4.000000   \n",
       "\n",
       "            famrel      freetime          Dalc          Walc        health  \\\n",
       "count  20000.00000  20000.000000  20000.000000  20000.000000  20000.000000   \n",
       "mean       3.92070      3.209450      1.485700      2.280150      3.515800   \n",
       "std        0.90319      1.026564      0.892544      1.280097      1.391275   \n",
       "min        1.00000      1.000000      1.000000      1.000000      1.000000   \n",
       "25%        4.00000      3.000000      1.000000      1.000000      3.000000   \n",
       "50%        4.00000      3.000000      1.000000      2.000000      4.000000   \n",
       "75%        5.00000      4.000000      2.000000      3.000000      5.000000   \n",
       "max        5.00000      5.000000      5.000000      5.000000      5.000000   \n",
       "\n",
       "          absences           G3  qual_student  \n",
       "count  20000.00000  20000.00000  20000.000000  \n",
       "mean       7.40665      9.82185      0.160500  \n",
       "std        9.94318      4.95591      0.367078  \n",
       "min        0.00000     -2.00000      0.000000  \n",
       "25%        2.00000      7.00000      0.000000  \n",
       "50%        4.00000     10.00000      0.000000  \n",
       "75%        9.00000     13.00000      0.000000  \n",
       "max       75.00000     21.00000      1.000000  "
      ]
     },
     "execution_count": 17,
     "metadata": {},
     "output_type": "execute_result"
    }
   ],
   "source": [
    "df.describe()"
   ]
  },
  {
   "cell_type": "markdown",
   "metadata": {},
   "source": [
    "Drop the G3 score"
   ]
  },
  {
   "cell_type": "code",
   "execution_count": 18,
   "metadata": {},
   "outputs": [],
   "source": [
    "include = ['health','Medu','Fedu',\n",
    "'studytime','traveltime','absences','age','freetime','famrel','Dalc','Walc','qual_student']\n",
    "df.drop(columns=df.columns.difference(include), inplace=True) "
   ]
  },
  {
   "cell_type": "markdown",
   "metadata": {},
   "source": [
    "Import scikit-learn and build a random forest classifer"
   ]
  },
  {
   "cell_type": "code",
   "execution_count": 24,
   "metadata": {},
   "outputs": [
    {
     "data": {
      "text/plain": [
       "RandomForestClassifier(n_estimators=1000)"
      ]
     },
     "execution_count": 24,
     "metadata": {},
     "output_type": "execute_result"
    }
   ],
   "source": [
    "from sklearn.ensemble import RandomForestClassifier as rf\n",
    "import sklearn\n",
    "dependent_variable = 'qual_student'\n",
    "x = df[df.columns.difference([dependent_variable])]\n",
    "y = df[dependent_variable]\n",
    "clf = rf(n_estimators = 1000)\n",
    "clf.fit(x, y)"
   ]
  },
  {
   "cell_type": "code",
   "execution_count": 44,
   "metadata": {},
   "outputs": [
    {
     "name": "stdout",
     "output_type": "stream",
     "text": [
      "[0 0 0 1 0 1 0 0 1 1 0 0 0 0 1 0 0 0 0 0 1 0 1 0 0 0 0 1 0 0 0 1 1 0 1 0 1\n",
      " 1 0 0 0 0 1 0 0 0 0 1 0 0 0 0 0 0 0 0 1 1 0 1 0 0 0 0 0 1 0 0 0 1 1 0 0 0\n",
      " 0 0 0 0 0 0 0 0 0 1 0 0 0 0 0 0 0 1 0 0 0 0 1 0 0 0 0 1 0 0 1 0 0 1 0 1 1\n",
      " 0 0 1 0 1 0 0 0 0 1 1 0 0 0 0 1 0 0 1 0 0 0 0 0 0 0 0 0 1 0 0 0 0 0 0 0 0\n",
      " 0 0 0 0 0 0 0 0 0 0 1 0 0 0 0 0 0 0 0 1 0 0 0 1 0 0 0 0 0 0 0 0 0 0 1 0 0\n",
      " 0 0 1 0 0 0 0 0 0 0 1 1 0 1 0 1 0 0 0 0 0 0 0 0 0 0 0 0 0 0 1 0 0 0 0 0 0\n",
      " 1 0 0 0 1 0 0 0 0 0 0 0 0 0 0 0 0 0 0 0 0 0 0 1 0 0 0 1 0 0 0 0 0 0 0 0 0\n",
      " 0 1 0 0 0 0 1 0 0 0 0 0 0 0 0 0 0 0 0 0 0 0 0 0 0 0 0 1 0 0 1 0 1 0 1 0 0\n",
      " 0 0 0 1 0 0 0 1 0 0 1 0 0 0 0 0 0 0 0 0 0 0 0 0 0 0 0 1 1 0 1 0 0 0 0 0 0\n",
      " 0 0 1 0 0 1 0 0 0 1 0 0 0 1 0 1 0 0 0 0 0 0 0 0 0 0 1 0 0 0 1 0 0 0 0 0 0\n",
      " 0 0 0 0 1 0 1 0 1 0 0 0 0 0 0 0 0 0 0 0 0 1 0 0 0]\n"
     ]
    }
   ],
   "source": [
    "pred = clf.predict(x)\n",
    "sklearn.metrics.f1_score(y, pred, average='binary')"
   ]
  },
  {
   "cell_type": "markdown",
   "metadata": {},
   "source": [
    "It's not very good! We didn't even cross validate. You'll need to do better :)\n",
    "Let's export this model so we can use it in a microservice (flask api)"
   ]
  },
  {
   "cell_type": "code",
   "execution_count": 26,
   "metadata": {},
   "outputs": [
    {
     "data": {
      "text/plain": [
       "['dockerfile/apps/model.pkl']"
      ]
     },
     "execution_count": 26,
     "metadata": {},
     "output_type": "execute_result"
    }
   ],
   "source": [
    "import joblib\n",
    "# modify the file path to where you want to save the model\n",
    "joblib.dump(clf, 'dockerfile/apps/model.pkl')"
   ]
  },
  {
   "cell_type": "code",
   "execution_count": 40,
   "metadata": {},
   "outputs": [],
   "source": [
    "query_df = pd.DataFrame({ 'health' : pd.Series(3) ,\n",
    "                         'Medu' : pd.Series(10) ,\n",
    "                         'Fedu' : pd.Series(18),\n",
    "                         'studytime' : pd.Series(2) ,\n",
    "                         'traveltime' : pd.Series(2) ,\n",
    "                         'absences' : pd.Series(6), \n",
    "                         'age' : pd.Series(20),\n",
    "                        'freetime': pd.Series(10),\n",
    "                        'famrel':pd.Series(14),\n",
    "                        'Dalc':pd.Series(20),\n",
    "                        'Walc':pd.Series(20)})\n",
    "query = pd.get_dummies(query_df)"
   ]
  },
  {
   "cell_type": "code",
   "execution_count": 41,
   "metadata": {},
   "outputs": [],
   "source": [
    "pred = clf.predict(query)"
   ]
  },
  {
   "cell_type": "code",
   "execution_count": 42,
   "metadata": {},
   "outputs": [
    {
     "data": {
      "text/plain": [
       "array([0])"
      ]
     },
     "execution_count": 42,
     "metadata": {},
     "output_type": "execute_result"
    }
   ],
   "source": [
    "pred"
   ]
  },
  {
   "cell_type": "code",
   "execution_count": 15,
   "metadata": {},
   "outputs": [
    {
     "data": {
      "text/plain": [
       "pandas.core.frame.DataFrame"
      ]
     },
     "execution_count": 15,
     "metadata": {},
     "output_type": "execute_result"
    }
   ],
   "source": [
    "type(x)"
   ]
  }
 ],
 "metadata": {
  "interpreter": {
   "hash": "aee8b7b246df8f9039afb4144a1f6fd8d2ca17a180786b69acc140d282b71a49"
  },
  "kernelspec": {
   "display_name": "Python 3 (ipykernel)",
   "language": "python",
   "name": "python3"
  },
  "language_info": {
   "codemirror_mode": {
    "name": "ipython",
    "version": 3
   },
   "file_extension": ".py",
   "mimetype": "text/x-python",
   "name": "python",
   "nbconvert_exporter": "python",
   "pygments_lexer": "ipython3",
   "version": "3.8.12"
  }
 },
 "nbformat": 4,
 "nbformat_minor": 2
}
